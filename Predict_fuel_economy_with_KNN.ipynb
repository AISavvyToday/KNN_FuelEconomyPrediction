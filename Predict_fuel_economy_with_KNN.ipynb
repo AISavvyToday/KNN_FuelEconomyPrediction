{
 "cells": [
  {
   "cell_type": "markdown",
   "id": "d0b06981",
   "metadata": {},
   "source": [
    "#### Import necessary libraries"
   ]
  },
  {
   "cell_type": "code",
   "execution_count": 1,
   "id": "fd42314d",
   "metadata": {},
   "outputs": [],
   "source": [
    "import pandas as pd"
   ]
  },
  {
   "cell_type": "markdown",
   "id": "026a72a5",
   "metadata": {},
   "source": [
    "#### Read in and explore the data"
   ]
  },
  {
   "cell_type": "code",
   "execution_count": 2,
   "id": "9e870fd6",
   "metadata": {},
   "outputs": [
    {
     "name": "stdout",
     "output_type": "stream",
     "text": [
      "(225, 32)\n",
      "Unnamed: 0             int64\n",
      "symboling              int64\n",
      "normalized-losses      int64\n",
      "make                  object\n",
      "aspiration            object\n",
      "num-of-doors          object\n",
      "body-style            object\n",
      "drive-wheels          object\n",
      "engine-location       object\n",
      "wheel-base           float64\n",
      "length               float64\n",
      "width                float64\n",
      "height               float64\n",
      "curb-weight          float64\n",
      "engine-type           object\n",
      "num-of-cylinders      object\n",
      "engine-size          float64\n",
      "fuel-system           object\n",
      "bore                 float64\n",
      "stroke               float64\n",
      "compression-ratio    float64\n",
      "horsepower           float64\n",
      "peak-rpm             float64\n",
      "city-mpg             float64\n",
      "highway-mpg          float64\n",
      "price                float64\n",
      "city-L/100km         float64\n",
      "highway-L/100km      float64\n",
      "horsepower-binned     object\n",
      "fuel-type-diesel       int64\n",
      "fuel-type-gas          int64\n",
      "Car Size             float64\n",
      "dtype: object\n"
     ]
    },
    {
     "data": {
      "text/html": [
       "<div>\n",
       "<style scoped>\n",
       "    .dataframe tbody tr th:only-of-type {\n",
       "        vertical-align: middle;\n",
       "    }\n",
       "\n",
       "    .dataframe tbody tr th {\n",
       "        vertical-align: top;\n",
       "    }\n",
       "\n",
       "    .dataframe thead th {\n",
       "        text-align: right;\n",
       "    }\n",
       "</style>\n",
       "<table border=\"1\" class=\"dataframe\">\n",
       "  <thead>\n",
       "    <tr style=\"text-align: right;\">\n",
       "      <th></th>\n",
       "      <th>Unnamed: 0</th>\n",
       "      <th>symboling</th>\n",
       "      <th>normalized-losses</th>\n",
       "      <th>make</th>\n",
       "      <th>aspiration</th>\n",
       "      <th>num-of-doors</th>\n",
       "      <th>body-style</th>\n",
       "      <th>drive-wheels</th>\n",
       "      <th>engine-location</th>\n",
       "      <th>wheel-base</th>\n",
       "      <th>...</th>\n",
       "      <th>peak-rpm</th>\n",
       "      <th>city-mpg</th>\n",
       "      <th>highway-mpg</th>\n",
       "      <th>price</th>\n",
       "      <th>city-L/100km</th>\n",
       "      <th>highway-L/100km</th>\n",
       "      <th>horsepower-binned</th>\n",
       "      <th>fuel-type-diesel</th>\n",
       "      <th>fuel-type-gas</th>\n",
       "      <th>Car Size</th>\n",
       "    </tr>\n",
       "  </thead>\n",
       "  <tbody>\n",
       "    <tr>\n",
       "      <th>0</th>\n",
       "      <td>0</td>\n",
       "      <td>3</td>\n",
       "      <td>121</td>\n",
       "      <td>alfa-romero</td>\n",
       "      <td>std</td>\n",
       "      <td>two</td>\n",
       "      <td>convertible</td>\n",
       "      <td>rwd</td>\n",
       "      <td>front</td>\n",
       "      <td>88.6</td>\n",
       "      <td>...</td>\n",
       "      <td>5000.0</td>\n",
       "      <td>21.0</td>\n",
       "      <td>27.0</td>\n",
       "      <td>13495.0</td>\n",
       "      <td>11.190476</td>\n",
       "      <td>9.370370</td>\n",
       "      <td>low</td>\n",
       "      <td>0</td>\n",
       "      <td>1</td>\n",
       "      <td>0.589311</td>\n",
       "    </tr>\n",
       "    <tr>\n",
       "      <th>1</th>\n",
       "      <td>1</td>\n",
       "      <td>3</td>\n",
       "      <td>121</td>\n",
       "      <td>alfa-romero</td>\n",
       "      <td>std</td>\n",
       "      <td>two</td>\n",
       "      <td>convertible</td>\n",
       "      <td>rwd</td>\n",
       "      <td>front</td>\n",
       "      <td>88.6</td>\n",
       "      <td>...</td>\n",
       "      <td>5000.0</td>\n",
       "      <td>21.0</td>\n",
       "      <td>27.0</td>\n",
       "      <td>16500.0</td>\n",
       "      <td>11.190476</td>\n",
       "      <td>9.370370</td>\n",
       "      <td>low</td>\n",
       "      <td>0</td>\n",
       "      <td>1</td>\n",
       "      <td>0.589311</td>\n",
       "    </tr>\n",
       "    <tr>\n",
       "      <th>2</th>\n",
       "      <td>2</td>\n",
       "      <td>1</td>\n",
       "      <td>121</td>\n",
       "      <td>alfa-romero</td>\n",
       "      <td>std</td>\n",
       "      <td>two</td>\n",
       "      <td>hatchback</td>\n",
       "      <td>rwd</td>\n",
       "      <td>front</td>\n",
       "      <td>94.5</td>\n",
       "      <td>...</td>\n",
       "      <td>5000.0</td>\n",
       "      <td>19.0</td>\n",
       "      <td>26.0</td>\n",
       "      <td>16500.0</td>\n",
       "      <td>12.368421</td>\n",
       "      <td>9.730769</td>\n",
       "      <td>medium</td>\n",
       "      <td>0</td>\n",
       "      <td>1</td>\n",
       "      <td>0.655799</td>\n",
       "    </tr>\n",
       "    <tr>\n",
       "      <th>3</th>\n",
       "      <td>3</td>\n",
       "      <td>2</td>\n",
       "      <td>164</td>\n",
       "      <td>audi</td>\n",
       "      <td>std</td>\n",
       "      <td>four</td>\n",
       "      <td>sedan</td>\n",
       "      <td>fwd</td>\n",
       "      <td>front</td>\n",
       "      <td>99.8</td>\n",
       "      <td>...</td>\n",
       "      <td>5500.0</td>\n",
       "      <td>24.0</td>\n",
       "      <td>30.0</td>\n",
       "      <td>13950.0</td>\n",
       "      <td>9.791667</td>\n",
       "      <td>8.433333</td>\n",
       "      <td>low</td>\n",
       "      <td>0</td>\n",
       "      <td>1</td>\n",
       "      <td>0.708505</td>\n",
       "    </tr>\n",
       "    <tr>\n",
       "      <th>4</th>\n",
       "      <td>4</td>\n",
       "      <td>2</td>\n",
       "      <td>164</td>\n",
       "      <td>audi</td>\n",
       "      <td>std</td>\n",
       "      <td>four</td>\n",
       "      <td>sedan</td>\n",
       "      <td>4wd</td>\n",
       "      <td>front</td>\n",
       "      <td>99.4</td>\n",
       "      <td>...</td>\n",
       "      <td>5500.0</td>\n",
       "      <td>18.0</td>\n",
       "      <td>22.0</td>\n",
       "      <td>17450.0</td>\n",
       "      <td>13.055556</td>\n",
       "      <td>11.500000</td>\n",
       "      <td>low</td>\n",
       "      <td>0</td>\n",
       "      <td>1</td>\n",
       "      <td>0.710645</td>\n",
       "    </tr>\n",
       "  </tbody>\n",
       "</table>\n",
       "<p>5 rows × 32 columns</p>\n",
       "</div>"
      ],
      "text/plain": [
       "   Unnamed: 0  symboling  normalized-losses         make aspiration  \\\n",
       "0           0          3                121  alfa-romero        std   \n",
       "1           1          3                121  alfa-romero        std   \n",
       "2           2          1                121  alfa-romero        std   \n",
       "3           3          2                164         audi        std   \n",
       "4           4          2                164         audi        std   \n",
       "\n",
       "  num-of-doors   body-style drive-wheels engine-location  wheel-base  ...  \\\n",
       "0          two  convertible          rwd           front        88.6  ...   \n",
       "1          two  convertible          rwd           front        88.6  ...   \n",
       "2          two    hatchback          rwd           front        94.5  ...   \n",
       "3         four        sedan          fwd           front        99.8  ...   \n",
       "4         four        sedan          4wd           front        99.4  ...   \n",
       "\n",
       "   peak-rpm  city-mpg  highway-mpg    price city-L/100km highway-L/100km  \\\n",
       "0    5000.0      21.0         27.0  13495.0    11.190476        9.370370   \n",
       "1    5000.0      21.0         27.0  16500.0    11.190476        9.370370   \n",
       "2    5000.0      19.0         26.0  16500.0    12.368421        9.730769   \n",
       "3    5500.0      24.0         30.0  13950.0     9.791667        8.433333   \n",
       "4    5500.0      18.0         22.0  17450.0    13.055556       11.500000   \n",
       "\n",
       "   horsepower-binned fuel-type-diesel  fuel-type-gas  Car Size  \n",
       "0                low                0              1  0.589311  \n",
       "1                low                0              1  0.589311  \n",
       "2             medium                0              1  0.655799  \n",
       "3                low                0              1  0.708505  \n",
       "4                low                0              1  0.710645  \n",
       "\n",
       "[5 rows x 32 columns]"
      ]
     },
     "execution_count": 2,
     "metadata": {},
     "output_type": "execute_result"
    }
   ],
   "source": [
    "df = pd.read_csv('cleaned_automobile.csv')\n",
    "print(df.shape)\n",
    "print(df.dtypes)\n",
    "df.head()"
   ]
  },
  {
   "cell_type": "markdown",
   "id": "1174f533",
   "metadata": {},
   "source": [
    "#### Convert Categorical Data to Numerical Form"
   ]
  },
  {
   "cell_type": "code",
   "execution_count": 6,
   "id": "1706ed7b",
   "metadata": {},
   "outputs": [
    {
     "data": {
      "text/html": [
       "<div>\n",
       "<style scoped>\n",
       "    .dataframe tbody tr th:only-of-type {\n",
       "        vertical-align: middle;\n",
       "    }\n",
       "\n",
       "    .dataframe tbody tr th {\n",
       "        vertical-align: top;\n",
       "    }\n",
       "\n",
       "    .dataframe thead th {\n",
       "        text-align: right;\n",
       "    }\n",
       "</style>\n",
       "<table border=\"1\" class=\"dataframe\">\n",
       "  <thead>\n",
       "    <tr style=\"text-align: right;\">\n",
       "      <th></th>\n",
       "      <th>Unnamed: 0</th>\n",
       "      <th>symboling</th>\n",
       "      <th>normalized-losses</th>\n",
       "      <th>wheel-base</th>\n",
       "      <th>length</th>\n",
       "      <th>width</th>\n",
       "      <th>height</th>\n",
       "      <th>curb-weight</th>\n",
       "      <th>engine-size</th>\n",
       "      <th>bore</th>\n",
       "      <th>...</th>\n",
       "      <th>num-of-cylinders_two</th>\n",
       "      <th>fuel-system_2bbl</th>\n",
       "      <th>fuel-system_4bbl</th>\n",
       "      <th>fuel-system_idi</th>\n",
       "      <th>fuel-system_mfi</th>\n",
       "      <th>fuel-system_mpfi</th>\n",
       "      <th>fuel-system_spdi</th>\n",
       "      <th>fuel-system_spfi</th>\n",
       "      <th>horsepower-binned_low</th>\n",
       "      <th>horsepower-binned_medium</th>\n",
       "    </tr>\n",
       "  </thead>\n",
       "  <tbody>\n",
       "    <tr>\n",
       "      <th>0</th>\n",
       "      <td>0</td>\n",
       "      <td>3</td>\n",
       "      <td>121</td>\n",
       "      <td>88.6</td>\n",
       "      <td>0.811148</td>\n",
       "      <td>0.890278</td>\n",
       "      <td>0.816054</td>\n",
       "      <td>2548.0</td>\n",
       "      <td>130.0</td>\n",
       "      <td>3.47</td>\n",
       "      <td>...</td>\n",
       "      <td>0</td>\n",
       "      <td>0</td>\n",
       "      <td>0</td>\n",
       "      <td>0</td>\n",
       "      <td>0</td>\n",
       "      <td>1</td>\n",
       "      <td>0</td>\n",
       "      <td>0</td>\n",
       "      <td>1</td>\n",
       "      <td>0</td>\n",
       "    </tr>\n",
       "    <tr>\n",
       "      <th>1</th>\n",
       "      <td>1</td>\n",
       "      <td>3</td>\n",
       "      <td>121</td>\n",
       "      <td>88.6</td>\n",
       "      <td>0.811148</td>\n",
       "      <td>0.890278</td>\n",
       "      <td>0.816054</td>\n",
       "      <td>2548.0</td>\n",
       "      <td>130.0</td>\n",
       "      <td>3.47</td>\n",
       "      <td>...</td>\n",
       "      <td>0</td>\n",
       "      <td>0</td>\n",
       "      <td>0</td>\n",
       "      <td>0</td>\n",
       "      <td>0</td>\n",
       "      <td>1</td>\n",
       "      <td>0</td>\n",
       "      <td>0</td>\n",
       "      <td>1</td>\n",
       "      <td>0</td>\n",
       "    </tr>\n",
       "    <tr>\n",
       "      <th>2</th>\n",
       "      <td>2</td>\n",
       "      <td>1</td>\n",
       "      <td>121</td>\n",
       "      <td>94.5</td>\n",
       "      <td>0.822681</td>\n",
       "      <td>0.909722</td>\n",
       "      <td>0.876254</td>\n",
       "      <td>2823.0</td>\n",
       "      <td>152.0</td>\n",
       "      <td>2.68</td>\n",
       "      <td>...</td>\n",
       "      <td>0</td>\n",
       "      <td>0</td>\n",
       "      <td>0</td>\n",
       "      <td>0</td>\n",
       "      <td>0</td>\n",
       "      <td>1</td>\n",
       "      <td>0</td>\n",
       "      <td>0</td>\n",
       "      <td>0</td>\n",
       "      <td>1</td>\n",
       "    </tr>\n",
       "    <tr>\n",
       "      <th>3</th>\n",
       "      <td>3</td>\n",
       "      <td>2</td>\n",
       "      <td>164</td>\n",
       "      <td>99.8</td>\n",
       "      <td>0.848630</td>\n",
       "      <td>0.919444</td>\n",
       "      <td>0.908027</td>\n",
       "      <td>2337.0</td>\n",
       "      <td>109.0</td>\n",
       "      <td>3.19</td>\n",
       "      <td>...</td>\n",
       "      <td>0</td>\n",
       "      <td>0</td>\n",
       "      <td>0</td>\n",
       "      <td>0</td>\n",
       "      <td>0</td>\n",
       "      <td>1</td>\n",
       "      <td>0</td>\n",
       "      <td>0</td>\n",
       "      <td>1</td>\n",
       "      <td>0</td>\n",
       "    </tr>\n",
       "    <tr>\n",
       "      <th>4</th>\n",
       "      <td>4</td>\n",
       "      <td>2</td>\n",
       "      <td>164</td>\n",
       "      <td>99.4</td>\n",
       "      <td>0.848630</td>\n",
       "      <td>0.922222</td>\n",
       "      <td>0.908027</td>\n",
       "      <td>2824.0</td>\n",
       "      <td>136.0</td>\n",
       "      <td>3.19</td>\n",
       "      <td>...</td>\n",
       "      <td>0</td>\n",
       "      <td>0</td>\n",
       "      <td>0</td>\n",
       "      <td>0</td>\n",
       "      <td>0</td>\n",
       "      <td>1</td>\n",
       "      <td>0</td>\n",
       "      <td>0</td>\n",
       "      <td>1</td>\n",
       "      <td>0</td>\n",
       "    </tr>\n",
       "  </tbody>\n",
       "</table>\n",
       "<p>5 rows × 77 columns</p>\n",
       "</div>"
      ],
      "text/plain": [
       "   Unnamed: 0  symboling  normalized-losses  wheel-base    length     width  \\\n",
       "0           0          3                121        88.6  0.811148  0.890278   \n",
       "1           1          3                121        88.6  0.811148  0.890278   \n",
       "2           2          1                121        94.5  0.822681  0.909722   \n",
       "3           3          2                164        99.8  0.848630  0.919444   \n",
       "4           4          2                164        99.4  0.848630  0.922222   \n",
       "\n",
       "     height  curb-weight  engine-size  bore  ...  num-of-cylinders_two  \\\n",
       "0  0.816054       2548.0        130.0  3.47  ...                     0   \n",
       "1  0.816054       2548.0        130.0  3.47  ...                     0   \n",
       "2  0.876254       2823.0        152.0  2.68  ...                     0   \n",
       "3  0.908027       2337.0        109.0  3.19  ...                     0   \n",
       "4  0.908027       2824.0        136.0  3.19  ...                     0   \n",
       "\n",
       "   fuel-system_2bbl  fuel-system_4bbl  fuel-system_idi  fuel-system_mfi  \\\n",
       "0                 0                 0                0                0   \n",
       "1                 0                 0                0                0   \n",
       "2                 0                 0                0                0   \n",
       "3                 0                 0                0                0   \n",
       "4                 0                 0                0                0   \n",
       "\n",
       "   fuel-system_mpfi  fuel-system_spdi  fuel-system_spfi  \\\n",
       "0                 1                 0                 0   \n",
       "1                 1                 0                 0   \n",
       "2                 1                 0                 0   \n",
       "3                 1                 0                 0   \n",
       "4                 1                 0                 0   \n",
       "\n",
       "   horsepower-binned_low  horsepower-binned_medium  \n",
       "0                      1                         0  \n",
       "1                      1                         0  \n",
       "2                      0                         1  \n",
       "3                      1                         0  \n",
       "4                      1                         0  \n",
       "\n",
       "[5 rows x 77 columns]"
      ]
     },
     "execution_count": 6,
     "metadata": {},
     "output_type": "execute_result"
    }
   ],
   "source": [
    "# One-hot encoding for categorical columns\n",
    "categorical_columns = ['make', 'engine-location', 'aspiration', 'num-of-doors', 'body-style', 'drive-wheels', 'engine-type', \n",
    "                       'num-of-cylinders', 'fuel-system', 'horsepower-binned']\n",
    "\n",
    "df_encoded = pd.get_dummies(df, columns=categorical_columns, drop_first=True)\n",
    "df_encoded.head()"
   ]
  },
  {
   "cell_type": "markdown",
   "id": "201aa64c",
   "metadata": {},
   "source": [
    "#### Standardize Features"
   ]
  },
  {
   "cell_type": "code",
   "execution_count": 7,
   "id": "7859445b",
   "metadata": {},
   "outputs": [],
   "source": [
    "from sklearn.preprocessing import StandardScaler\n"
   ]
  },
  {
   "cell_type": "code",
   "execution_count": 8,
   "id": "e5a8039c",
   "metadata": {},
   "outputs": [],
   "source": [
    "# Exclude non-feature columns for scaling - our target feature\n",
    "columns_to_scale = df_encoded.columns.difference(['city-mpg'])"
   ]
  },
  {
   "cell_type": "code",
   "execution_count": 9,
   "id": "60f0d2a2",
   "metadata": {},
   "outputs": [],
   "source": [
    "scaler = StandardScaler()"
   ]
  },
  {
   "cell_type": "code",
   "execution_count": 10,
   "id": "07eef7b8",
   "metadata": {},
   "outputs": [],
   "source": [
    "# Fit on the data and then transform it\n",
    "df_encoded[columns_to_scale] = scaler.fit_transform(df_encoded[columns_to_scale])"
   ]
  },
  {
   "cell_type": "markdown",
   "id": "c848deb6",
   "metadata": {},
   "source": [
    "#### Data Splitting"
   ]
  },
  {
   "cell_type": "code",
   "execution_count": 12,
   "id": "78a5333c",
   "metadata": {},
   "outputs": [],
   "source": [
    "from sklearn.model_selection import train_test_split"
   ]
  },
  {
   "cell_type": "code",
   "execution_count": 13,
   "id": "c971ef31",
   "metadata": {},
   "outputs": [],
   "source": [
    "# Define the features and the target variable\n",
    "X = df_encoded.drop('city-mpg', axis=1)\n",
    "y = df_encoded['city-mpg']"
   ]
  },
  {
   "cell_type": "code",
   "execution_count": 14,
   "id": "165b3f34",
   "metadata": {},
   "outputs": [],
   "source": [
    "# Splitting the data into training and test sets (70% train, 30% test)\n",
    "X_train, X_test, y_train, y_test = train_test_split(X, y, test_size=0.3, random_state=42)"
   ]
  },
  {
   "cell_type": "markdown",
   "id": "b6af99e4",
   "metadata": {},
   "source": [
    "#### Modelling"
   ]
  },
  {
   "cell_type": "code",
   "execution_count": 20,
   "id": "b3a70456",
   "metadata": {},
   "outputs": [],
   "source": [
    "from sklearn.neighbors import KNeighborsRegressor"
   ]
  },
  {
   "cell_type": "code",
   "execution_count": 21,
   "id": "078a0ac9",
   "metadata": {},
   "outputs": [],
   "source": [
    "# Initialize KNN regressor with k=5 (as a starting point)\n",
    "knn = KNeighborsRegressor(n_neighbors=5)"
   ]
  },
  {
   "cell_type": "code",
   "execution_count": 22,
   "id": "d3a74d99",
   "metadata": {},
   "outputs": [
    {
     "data": {
      "text/html": [
       "<style>#sk-container-id-1 {color: black;}#sk-container-id-1 pre{padding: 0;}#sk-container-id-1 div.sk-toggleable {background-color: white;}#sk-container-id-1 label.sk-toggleable__label {cursor: pointer;display: block;width: 100%;margin-bottom: 0;padding: 0.3em;box-sizing: border-box;text-align: center;}#sk-container-id-1 label.sk-toggleable__label-arrow:before {content: \"▸\";float: left;margin-right: 0.25em;color: #696969;}#sk-container-id-1 label.sk-toggleable__label-arrow:hover:before {color: black;}#sk-container-id-1 div.sk-estimator:hover label.sk-toggleable__label-arrow:before {color: black;}#sk-container-id-1 div.sk-toggleable__content {max-height: 0;max-width: 0;overflow: hidden;text-align: left;background-color: #f0f8ff;}#sk-container-id-1 div.sk-toggleable__content pre {margin: 0.2em;color: black;border-radius: 0.25em;background-color: #f0f8ff;}#sk-container-id-1 input.sk-toggleable__control:checked~div.sk-toggleable__content {max-height: 200px;max-width: 100%;overflow: auto;}#sk-container-id-1 input.sk-toggleable__control:checked~label.sk-toggleable__label-arrow:before {content: \"▾\";}#sk-container-id-1 div.sk-estimator input.sk-toggleable__control:checked~label.sk-toggleable__label {background-color: #d4ebff;}#sk-container-id-1 div.sk-label input.sk-toggleable__control:checked~label.sk-toggleable__label {background-color: #d4ebff;}#sk-container-id-1 input.sk-hidden--visually {border: 0;clip: rect(1px 1px 1px 1px);clip: rect(1px, 1px, 1px, 1px);height: 1px;margin: -1px;overflow: hidden;padding: 0;position: absolute;width: 1px;}#sk-container-id-1 div.sk-estimator {font-family: monospace;background-color: #f0f8ff;border: 1px dotted black;border-radius: 0.25em;box-sizing: border-box;margin-bottom: 0.5em;}#sk-container-id-1 div.sk-estimator:hover {background-color: #d4ebff;}#sk-container-id-1 div.sk-parallel-item::after {content: \"\";width: 100%;border-bottom: 1px solid gray;flex-grow: 1;}#sk-container-id-1 div.sk-label:hover label.sk-toggleable__label {background-color: #d4ebff;}#sk-container-id-1 div.sk-serial::before {content: \"\";position: absolute;border-left: 1px solid gray;box-sizing: border-box;top: 0;bottom: 0;left: 50%;z-index: 0;}#sk-container-id-1 div.sk-serial {display: flex;flex-direction: column;align-items: center;background-color: white;padding-right: 0.2em;padding-left: 0.2em;position: relative;}#sk-container-id-1 div.sk-item {position: relative;z-index: 1;}#sk-container-id-1 div.sk-parallel {display: flex;align-items: stretch;justify-content: center;background-color: white;position: relative;}#sk-container-id-1 div.sk-item::before, #sk-container-id-1 div.sk-parallel-item::before {content: \"\";position: absolute;border-left: 1px solid gray;box-sizing: border-box;top: 0;bottom: 0;left: 50%;z-index: -1;}#sk-container-id-1 div.sk-parallel-item {display: flex;flex-direction: column;z-index: 1;position: relative;background-color: white;}#sk-container-id-1 div.sk-parallel-item:first-child::after {align-self: flex-end;width: 50%;}#sk-container-id-1 div.sk-parallel-item:last-child::after {align-self: flex-start;width: 50%;}#sk-container-id-1 div.sk-parallel-item:only-child::after {width: 0;}#sk-container-id-1 div.sk-dashed-wrapped {border: 1px dashed gray;margin: 0 0.4em 0.5em 0.4em;box-sizing: border-box;padding-bottom: 0.4em;background-color: white;}#sk-container-id-1 div.sk-label label {font-family: monospace;font-weight: bold;display: inline-block;line-height: 1.2em;}#sk-container-id-1 div.sk-label-container {text-align: center;}#sk-container-id-1 div.sk-container {/* jupyter's `normalize.less` sets `[hidden] { display: none; }` but bootstrap.min.css set `[hidden] { display: none !important; }` so we also need the `!important` here to be able to override the default hidden behavior on the sphinx rendered scikit-learn.org. See: https://github.com/scikit-learn/scikit-learn/issues/21755 */display: inline-block !important;position: relative;}#sk-container-id-1 div.sk-text-repr-fallback {display: none;}</style><div id=\"sk-container-id-1\" class=\"sk-top-container\"><div class=\"sk-text-repr-fallback\"><pre>KNeighborsRegressor()</pre><b>In a Jupyter environment, please rerun this cell to show the HTML representation or trust the notebook. <br />On GitHub, the HTML representation is unable to render, please try loading this page with nbviewer.org.</b></div><div class=\"sk-container\" hidden><div class=\"sk-item\"><div class=\"sk-estimator sk-toggleable\"><input class=\"sk-toggleable__control sk-hidden--visually\" id=\"sk-estimator-id-1\" type=\"checkbox\" checked><label for=\"sk-estimator-id-1\" class=\"sk-toggleable__label sk-toggleable__label-arrow\">KNeighborsRegressor</label><div class=\"sk-toggleable__content\"><pre>KNeighborsRegressor()</pre></div></div></div></div></div>"
      ],
      "text/plain": [
       "KNeighborsRegressor()"
      ]
     },
     "execution_count": 22,
     "metadata": {},
     "output_type": "execute_result"
    }
   ],
   "source": [
    "# Train the model\n",
    "knn.fit(X_train, y_train)"
   ]
  },
  {
   "cell_type": "markdown",
   "id": "03ce005a",
   "metadata": {},
   "source": [
    "#### Model Evaluation"
   ]
  },
  {
   "cell_type": "code",
   "execution_count": 23,
   "id": "d722708d",
   "metadata": {},
   "outputs": [],
   "source": [
    "from sklearn.metrics import mean_absolute_error, mean_squared_error, r2_score"
   ]
  },
  {
   "cell_type": "code",
   "execution_count": 27,
   "id": "4a735a8b",
   "metadata": {},
   "outputs": [
    {
     "data": {
      "text/plain": [
       "array([22. , 24.4, 28. , 23.4, 30.4, 23.8, 26.4, 31. , 37.4, 20.2, 16.2,\n",
       "       19.4, 22.4, 29.4, 30.4, 18. , 35.6, 18.8, 18.2, 26.6, 21.6, 31.8,\n",
       "       26.6, 31. , 31. , 26.4, 22.4, 29.8, 25.8, 22.6, 31.8, 28.6, 19.4,\n",
       "       20.4, 23.6, 28.8, 22.4, 19. , 25.6, 26.6, 26.6, 23.6, 26.6, 25. ,\n",
       "       27.2, 26. , 26.2, 18.2, 20.2, 25.2, 24.6, 21.6, 31. , 31. , 30.4,\n",
       "       26.6, 29.4, 31.8, 34.4, 22.4, 20.8, 16.6, 30.4, 31.8, 22.6, 23. ,\n",
       "       29.4, 19.4])"
      ]
     },
     "execution_count": 27,
     "metadata": {},
     "output_type": "execute_result"
    }
   ],
   "source": [
    "# Predictions\n",
    "y_pred = knn.predict(X_test)\n",
    "y_pred"
   ]
  },
  {
   "cell_type": "code",
   "execution_count": 28,
   "id": "f8b08be8",
   "metadata": {},
   "outputs": [],
   "source": [
    "# Evaluation\n",
    "mae = mean_absolute_error(y_test, y_pred)\n",
    "mse = mean_squared_error(y_test, y_pred)\n",
    "r2 = r2_score(y_test, y_pred)"
   ]
  },
  {
   "cell_type": "code",
   "execution_count": 29,
   "id": "0e5786c5",
   "metadata": {},
   "outputs": [
    {
     "name": "stdout",
     "output_type": "stream",
     "text": [
      "Mean Absolute Error: 2.60\n",
      "Mean Squared Error: 13.96\n",
      "R^2 Score: 0.70\n"
     ]
    }
   ],
   "source": [
    "print(f\"Mean Absolute Error: {mae:.2f}\")\n",
    "print(f\"Mean Squared Error: {mse:.2f}\")\n",
    "print(f\"R-Squared Score: {r2:.2f}\")"
   ]
  },
  {
   "cell_type": "markdown",
   "id": "d015854b",
   "metadata": {},
   "source": [
    "\n",
    "#### MAE\n",
    "\n",
    "MAE of 2.60 means that on average, the model's predictions are about 2.60 mpg off from the actual values. The practical implications of this error will depend on specific application. For instance, if providing fuel efficiency estimates to customers for purchasing decisions, then even a small discrepancy might be significant. Conversely, if the goal is to see general patterns or relationships, this might be acceptable.\n",
    "\n",
    "#### MSE\n",
    "\n",
    "MSE of 13.96 implies that there might be a few predictions that are notably off from the actual values, as squared differences penalize outliers more than MAE.\n",
    "\n",
    "\n",
    "\n",
    "#### R-Squared\n",
    "\n",
    "The R-squared of 0.70 suggests that the model captures a good portion of the variance in the data. It's generally considered a decent score for many real-world datasets, especially in initial exploratory phases."
   ]
  },
  {
   "cell_type": "markdown",
   "id": "dacd36ca",
   "metadata": {},
   "source": [
    "#### Optimizing 'K'"
   ]
  },
  {
   "cell_type": "code",
   "execution_count": 30,
   "id": "860c8773",
   "metadata": {},
   "outputs": [],
   "source": [
    "from sklearn.neighbors import KNeighborsRegressor\n",
    "from sklearn.model_selection import cross_val_score"
   ]
  },
  {
   "cell_type": "code",
   "execution_count": 31,
   "id": "338333fa",
   "metadata": {},
   "outputs": [],
   "source": [
    "# Define a range of 'K' values to test\n",
    "k_values = range(1, 31)\n",
    "cross_val_scores = []"
   ]
  },
  {
   "cell_type": "code",
   "execution_count": 32,
   "id": "96a386e9",
   "metadata": {},
   "outputs": [],
   "source": [
    "# Iterate through all K values\n",
    "for k in k_values:\n",
    "    knn = KNeighborsRegressor(n_neighbors=k)\n",
    "    scores = cross_val_score(knn, X_train, y_train, cv=10, scoring='neg_mean_squared_error')\n",
    "    cross_val_scores.append(scores.mean())"
   ]
  },
  {
   "cell_type": "code",
   "execution_count": 33,
   "id": "b5740d10",
   "metadata": {},
   "outputs": [],
   "source": [
    "# Convert negative MSE to positive and then to RMSE\n",
    "rmse_values = [abs(value)**0.5 for value in cross_val_scores]"
   ]
  },
  {
   "cell_type": "code",
   "execution_count": 34,
   "id": "d8a72604",
   "metadata": {},
   "outputs": [],
   "source": [
    "# Determine the best 'K' value\n",
    "optimal_k = k_values[rmse_values.index(min(rmse_values)) + 1]"
   ]
  },
  {
   "cell_type": "code",
   "execution_count": 35,
   "id": "f0a46ba7",
   "metadata": {},
   "outputs": [
    {
     "name": "stdout",
     "output_type": "stream",
     "text": [
      "The optimal number of neighbors (K) is: 3\n"
     ]
    }
   ],
   "source": [
    "print(f\"The optimal number of neighbors (K) is: {optimal_k}\")"
   ]
  },
  {
   "cell_type": "code",
   "execution_count": 36,
   "id": "ea8321b7",
   "metadata": {},
   "outputs": [
    {
     "data": {
      "image/png": "[encoded data removed]",
      "text/plain": [
       "<Figure size 1200x600 with 1 Axes>"
      ]
     },
     "metadata": {},
     "output_type": "display_data"
    }
   ],
   "source": [
    "# Plot the RMSE values against K values\n",
    "import matplotlib.pyplot as plt\n",
    "\n",
    "plt.figure(figsize=(12, 6))\n",
    "plt.plot(k_values, rmse_values, marker='o', linestyle='-')\n",
    "plt.xlabel('K Value')\n",
    "plt.ylabel('RMSE')\n",
    "plt.title('RMSE vs. K Value')\n",
    "plt.show()"
   ]
  },
  {
   "cell_type": "markdown",
   "id": "9573a4e6",
   "metadata": {},
   "source": [
    "#### Weighted KNN"
   ]
  },
  {
   "cell_type": "code",
   "execution_count": 37,
   "id": "10acba66",
   "metadata": {},
   "outputs": [
    {
     "data": {
      "text/html": [
       "<style>#sk-container-id-2 {color: black;}#sk-container-id-2 pre{padding: 0;}#sk-container-id-2 div.sk-toggleable {background-color: white;}#sk-container-id-2 label.sk-toggleable__label {cursor: pointer;display: block;width: 100%;margin-bottom: 0;padding: 0.3em;box-sizing: border-box;text-align: center;}#sk-container-id-2 label.sk-toggleable__label-arrow:before {content: \"▸\";float: left;margin-right: 0.25em;color: #696969;}#sk-container-id-2 label.sk-toggleable__label-arrow:hover:before {color: black;}#sk-container-id-2 div.sk-estimator:hover label.sk-toggleable__label-arrow:before {color: black;}#sk-container-id-2 div.sk-toggleable__content {max-height: 0;max-width: 0;overflow: hidden;text-align: left;background-color: #f0f8ff;}#sk-container-id-2 div.sk-toggleable__content pre {margin: 0.2em;color: black;border-radius: 0.25em;background-color: #f0f8ff;}#sk-container-id-2 input.sk-toggleable__control:checked~div.sk-toggleable__content {max-height: 200px;max-width: 100%;overflow: auto;}#sk-container-id-2 input.sk-toggleable__control:checked~label.sk-toggleable__label-arrow:before {content: \"▾\";}#sk-container-id-2 div.sk-estimator input.sk-toggleable__control:checked~label.sk-toggleable__label {background-color: #d4ebff;}#sk-container-id-2 div.sk-label input.sk-toggleable__control:checked~label.sk-toggleable__label {background-color: #d4ebff;}#sk-container-id-2 input.sk-hidden--visually {border: 0;clip: rect(1px 1px 1px 1px);clip: rect(1px, 1px, 1px, 1px);height: 1px;margin: -1px;overflow: hidden;padding: 0;position: absolute;width: 1px;}#sk-container-id-2 div.sk-estimator {font-family: monospace;background-color: #f0f8ff;border: 1px dotted black;border-radius: 0.25em;box-sizing: border-box;margin-bottom: 0.5em;}#sk-container-id-2 div.sk-estimator:hover {background-color: #d4ebff;}#sk-container-id-2 div.sk-parallel-item::after {content: \"\";width: 100%;border-bottom: 1px solid gray;flex-grow: 1;}#sk-container-id-2 div.sk-label:hover label.sk-toggleable__label {background-color: #d4ebff;}#sk-container-id-2 div.sk-serial::before {content: \"\";position: absolute;border-left: 1px solid gray;box-sizing: border-box;top: 0;bottom: 0;left: 50%;z-index: 0;}#sk-container-id-2 div.sk-serial {display: flex;flex-direction: column;align-items: center;background-color: white;padding-right: 0.2em;padding-left: 0.2em;position: relative;}#sk-container-id-2 div.sk-item {position: relative;z-index: 1;}#sk-container-id-2 div.sk-parallel {display: flex;align-items: stretch;justify-content: center;background-color: white;position: relative;}#sk-container-id-2 div.sk-item::before, #sk-container-id-2 div.sk-parallel-item::before {content: \"\";position: absolute;border-left: 1px solid gray;box-sizing: border-box;top: 0;bottom: 0;left: 50%;z-index: -1;}#sk-container-id-2 div.sk-parallel-item {display: flex;flex-direction: column;z-index: 1;position: relative;background-color: white;}#sk-container-id-2 div.sk-parallel-item:first-child::after {align-self: flex-end;width: 50%;}#sk-container-id-2 div.sk-parallel-item:last-child::after {align-self: flex-start;width: 50%;}#sk-container-id-2 div.sk-parallel-item:only-child::after {width: 0;}#sk-container-id-2 div.sk-dashed-wrapped {border: 1px dashed gray;margin: 0 0.4em 0.5em 0.4em;box-sizing: border-box;padding-bottom: 0.4em;background-color: white;}#sk-container-id-2 div.sk-label label {font-family: monospace;font-weight: bold;display: inline-block;line-height: 1.2em;}#sk-container-id-2 div.sk-label-container {text-align: center;}#sk-container-id-2 div.sk-container {/* jupyter's `normalize.less` sets `[hidden] { display: none; }` but bootstrap.min.css set `[hidden] { display: none !important; }` so we also need the `!important` here to be able to override the default hidden behavior on the sphinx rendered scikit-learn.org. See: https://github.com/scikit-learn/scikit-learn/issues/21755 */display: inline-block !important;position: relative;}#sk-container-id-2 div.sk-text-repr-fallback {display: none;}</style><div id=\"sk-container-id-2\" class=\"sk-top-container\"><div class=\"sk-text-repr-fallback\"><pre>KNeighborsRegressor(n_neighbors=3, weights=&#x27;distance&#x27;)</pre><b>In a Jupyter environment, please rerun this cell to show the HTML representation or trust the notebook. <br />On GitHub, the HTML representation is unable to render, please try loading this page with nbviewer.org.</b></div><div class=\"sk-container\" hidden><div class=\"sk-item\"><div class=\"sk-estimator sk-toggleable\"><input class=\"sk-toggleable__control sk-hidden--visually\" id=\"sk-estimator-id-2\" type=\"checkbox\" checked><label for=\"sk-estimator-id-2\" class=\"sk-toggleable__label sk-toggleable__label-arrow\">KNeighborsRegressor</label><div class=\"sk-toggleable__content\"><pre>KNeighborsRegressor(n_neighbors=3, weights=&#x27;distance&#x27;)</pre></div></div></div></div></div>"
      ],
      "text/plain": [
       "KNeighborsRegressor(n_neighbors=3, weights='distance')"
      ]
     },
     "execution_count": 37,
     "metadata": {},
     "output_type": "execute_result"
    }
   ],
   "source": [
    "# Using the optimal K value from above for weighted KNN\n",
    "knn_weighted = KNeighborsRegressor(n_neighbors=optimal_k, weights='distance')\n",
    "knn_weighted.fit(X_train, y_train)"
   ]
  },
  {
   "cell_type": "code",
   "execution_count": 38,
   "id": "073cced7",
   "metadata": {},
   "outputs": [
    {
     "data": {
      "text/plain": [
       "array([22.59118435, 26.53076898, 28.35429465, 24.8633123 , 29.62084983,\n",
       "       23.        , 26.90009897, 31.        , 37.44565649, 19.91941113,\n",
       "       14.56646057, 18.1975874 , 23.32186685, 32.81127238, 32.2756501 ,\n",
       "       15.33208107, 33.70044421, 19.28688409, 18.38193295, 26.04044185,\n",
       "       19.12698097, 32.33881471, 25.95694549, 30.63086152, 31.        ,\n",
       "       25.19853315, 23.09516732, 28.44648765, 23.11309691, 19.        ,\n",
       "       29.99514948, 30.60840844, 18.09854959, 18.34608026, 22.64336315,\n",
       "       27.29140212, 21.32823357, 19.        , 25.4786921 , 24.92494542,\n",
       "       24.36736389, 22.64711536, 26.67164658, 24.91043646, 28.23745124,\n",
       "       24.        , 22.42747009, 17.        , 17.02874338, 23.90367859,\n",
       "       23.07276589, 23.29693612, 31.        , 31.        , 29.95630575,\n",
       "       27.10505583, 32.81181795, 32.29513168, 33.98767336, 20.90664508,\n",
       "       20.68839868, 15.46732948, 33.319033  , 32.36634832, 19.        ,\n",
       "       22.84252164, 29.45978059, 18.58861484])"
      ]
     },
     "execution_count": 38,
     "metadata": {},
     "output_type": "execute_result"
    }
   ],
   "source": [
    "# Making predictions on the test set\n",
    "y_pred_weighted = knn_weighted.predict(X_test)\n",
    "y_pred_weighted"
   ]
  },
  {
   "cell_type": "code",
   "execution_count": 39,
   "id": "bd5b5f0b",
   "metadata": {},
   "outputs": [],
   "source": [
    "# Evaluate the performance of the weighted KNN model\n",
    "from sklearn.metrics import mean_absolute_error, mean_squared_error, r2_score"
   ]
  },
  {
   "cell_type": "code",
   "execution_count": 41,
   "id": "08e489d7",
   "metadata": {},
   "outputs": [],
   "source": [
    "mae_weighted = mean_absolute_error(y_test, y_pred_weighted)\n",
    "mse_weighted = mean_squared_error(y_test, y_pred_weighted)\n",
    "r_squared_weighted = r2_score(y_test, y_pred_weighted)"
   ]
  },
  {
   "cell_type": "code",
   "execution_count": 42,
   "id": "1d4ac2e3",
   "metadata": {},
   "outputs": [
    {
     "name": "stdout",
     "output_type": "stream",
     "text": [
      "Weighted KNN - Mean Absolute Error: 1.92\n",
      "Weighted KNN - Mean Squared Error: 10.53\n",
      "Weighted KNN - R-squared Score: 0.78\n"
     ]
    }
   ],
   "source": [
    "print(f\"Weighted KNN - Mean Absolute Error: {mae_weighted:.2f}\")\n",
    "print(f\"Weighted KNN - Mean Squared Error: {mse_weighted:.2f}\")\n",
    "print(f\"Weighted KNN - R-squared Score: {r_squared_weighted:.2f}\")"
   ]
  },
  {
   "cell_type": "markdown",
   "id": "63dc40ca",
   "metadata": {},
   "source": [
    "#### Optimal Number of Neighbors (k): \n",
    "The model achieved its best performance with k=3. This indicates that considering the closest 3 data points to a given test instance proved to be the most effective for this dataset and the target feature."
   ]
  }
 ],
 "metadata": {
  "kernelspec": {
   "display_name": "Python 3 (ipykernel)",
   "language": "python",
   "name": "python3"
  },
  "language_info": {
   "codemirror_mode": {
    "name": "ipython",
    "version": 3
   },
   "file_extension": ".py",
   "mimetype": "text/x-python",
   "name": "python",
   "nbconvert_exporter": "python",
   "pygments_lexer": "ipython3",
   "version": "3.9.18"
  }
 },
 "nbformat": 4,
 "nbformat_minor": 5
}
